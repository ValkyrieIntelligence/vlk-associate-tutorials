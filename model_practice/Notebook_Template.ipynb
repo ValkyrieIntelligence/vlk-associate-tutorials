{
 "cells": [
  {
   "cell_type": "markdown",
   "metadata": {},
   "source": [
    "# Comparing 3 ML Models "
   ]
  },
  {
   "cell_type": "code",
   "execution_count": null,
   "metadata": {},
   "outputs": [],
   "source": [
    "from sklearn.tree import DecisionTreeRegressor\n",
    "from sklearn.ensemble import RandomForestRegressor\n",
    "from sklearn.ensemble import GradientBoostingRegressor\n",
    "from sklearn.ensemble import AdaBoostRegressor\n",
    "from sklearn.datasets import fetch_california_housing\n",
    "from sklearn.model_selection import train_test_split, cross_val_score\n",
    "from sklearn.model_selection import GridSearchCV\n",
    "from sklearn.metrics import mean_squared_error, r2_score\n",
    "import matplotlib.pyplot as plt\n",
    "import numpy as np"
   ]
  },
  {
   "cell_type": "markdown",
   "metadata": {},
   "source": [
    "## Load in the Data and understand the features and target variable"
   ]
  },
  {
   "cell_type": "code",
   "execution_count": null,
   "metadata": {},
   "outputs": [],
   "source": [
    "housing = fetch_california_housing()\n",
    "\n",
    "housing.DESCR"
   ]
  },
  {
   "cell_type": "code",
   "execution_count": null,
   "metadata": {},
   "outputs": [],
   "source": [
    "# House Prices\n",
    "y = housing.target\n",
    "\n",
    "# The 8 features\n",
    "X = housing.data\n",
    "\n",
    "housing.feature_names"
   ]
  },
  {
   "cell_type": "markdown",
   "metadata": {},
   "source": [
    "## Train and Test the models"
   ]
  },
  {
   "cell_type": "code",
   "execution_count": null,
   "metadata": {},
   "outputs": [],
   "source": [
    "# Keep the random state at 1 so each group has the same split\n",
    "X_train, X_test, y_train, y_test = train_test_split(X, y, test_size=0.20, random_state=1)"
   ]
  },
  {
   "cell_type": "markdown",
   "metadata": {},
   "source": [
    "As a starting point, there are instantiations of the 3 classes of\n",
    "algorithms with predetermined hyperparameters. Don't worry about those for now, \n",
    "each group will get to tune their parameters. "
   ]
  },
  {
   "cell_type": "code",
   "execution_count": null,
   "metadata": {},
   "outputs": [],
   "source": [
    "# Group 1\n",
    "rf = RandomForestRegressor(n_estimators=100,\n",
    "                           n_jobs=-1,\n",
    "                           random_state=1)\n",
    "\n",
    "# Group 2\n",
    "gdbr = GradientBoostingRegressor(learning_rate=0.1,\n",
    "                                 loss='squared_error',\n",
    "                                 n_estimators=100,\n",
    "                                 random_state=1)\n",
    "\n",
    "#Group 3\n",
    "abr = AdaBoostRegressor(DecisionTreeRegressor(),\n",
    "                        learning_rate=0.1,\n",
    "                        loss='linear',\n",
    "                        n_estimators=100,\n",
    "                        random_state=1)"
   ]
  },
  {
   "cell_type": "code",
   "execution_count": null,
   "metadata": {},
   "outputs": [],
   "source": [
    "# Compare the MSE and R2 scores for the models \n",
    "\n",
    "def CV_trees(models, X_train, y_train, X_test, y_test): \n",
    "    \n",
    "    for model in models:\n",
    "        model_name = type(model).__name__\n",
    "        model.fit(X_train, y_train)\n",
    "        y_pred = model.predict(X_test)\n",
    "        mse = mean_squared_error(y_test,y_pred)\n",
    "        R2 = r2_score(y_test, y_pred)\n",
    "        print(\n",
    "        '{}         Train CV | MSE: {:2f} | R2: {:2f}'.format(model_name, mse, R2)\n",
    "        )\n",
    "\n",
    "models = [rf, gdbr, abr]\n",
    "CV_trees(models, X_train, y_train, X_test, y_test)"
   ]
  },
  {
   "cell_type": "markdown",
   "metadata": {},
   "source": [
    "Which of the models cross validates the best? Why is it inappropriate\n",
    "to make a judgement on the performance of the models\n",
    "based only on the evidence we have thus far?"
   ]
  },
  {
   "cell_type": "markdown",
   "metadata": {},
   "source": [
    "## Grid Search Outline"
   ]
  },
  {
   "cell_type": "code",
   "execution_count": null,
   "metadata": {},
   "outputs": [],
   "source": [
    "#This is an example for a rf grid. For GradientBoost and AdaBoost you will need to update the parameters.\n",
    "regressor_grid = {'max_depth': [3, None],\n",
    "                  'max_features': ['sqrt', 'log2', None],\n",
    "                  'min_samples_split': [2, 4],\n",
    "                  'min_samples_leaf': [1, 2, 4],\n",
    "                  'bootstrap': [True, False],\n",
    "                  'n_estimators': [10, 20, 40, 80],\n",
    "                  'random_state': [1]\n",
    "                 }\n",
    "\n",
    "regressor = RandomForestRegressor() # update if using GradientBoost or AdaBoost\n",
    "regressor_gridsearch = GridSearchCV(regressor,\n",
    "                             regressor_grid,\n",
    "                             n_jobs=-1,\n",
    "                             verbose=True,\n",
    "                             scoring='neg_mean_squared_error')\n",
    "\n",
    "regressor_gridsearch.fit(X_train, y_train)\n",
    "\n",
    "print(f\"Best parameters: {regressor_gridsearch.best_params_}\")\n",
    "\n",
    "best_model = regressor_gridsearch.best_estimator_"
   ]
  },
  {
   "cell_type": "code",
   "execution_count": null,
   "metadata": {},
   "outputs": [],
   "source": [
    "y_pred = best_model.predict(X_test)\n",
    "mse = mean_squared_error(y_test,y_pred)\n",
    "R2 = r2_score(y_test, y_pred)\n",
    "print(\"New Results - MSE: {:2f} | R2: {:2f}\".format(mse, R2))"
   ]
  },
  {
   "cell_type": "code",
   "execution_count": null,
   "metadata": {},
   "outputs": [],
   "source": []
  }
 ],
 "metadata": {
  "kernelspec": {
   "display_name": "Python 3 (ipykernel)",
   "language": "python",
   "name": "python3"
  },
  "language_info": {
   "codemirror_mode": {
    "name": "ipython",
    "version": 3
   },
   "file_extension": ".py",
   "mimetype": "text/x-python",
   "name": "python",
   "nbconvert_exporter": "python",
   "pygments_lexer": "ipython3",
   "version": "3.10.4"
  }
 },
 "nbformat": 4,
 "nbformat_minor": 4
}
