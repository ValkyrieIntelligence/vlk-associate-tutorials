{
 "cells": [
  {
   "cell_type": "markdown",
   "metadata": {},
   "source": [
    "# Python Tutorial\n",
    "\n",
    "This notebook was derived with content from the Galvanize Intro to Python Fundamentals course"
   ]
  },
  {
   "cell_type": "markdown",
   "metadata": {},
   "source": [
    "## Plotting with Pandas\n",
    "\n",
    "We begin by importing the data as before, and then visualizing some of the stats that we found in the previous notebook. "
   ]
  },
  {
   "cell_type": "code",
   "execution_count": null,
   "metadata": {},
   "outputs": [],
   "source": [
    "import pandas as pd\n",
    "import matplotlib.pyplot as plt\n",
    "\n",
    "%matplotlib inline"
   ]
  },
  {
   "cell_type": "code",
   "execution_count": null,
   "metadata": {},
   "outputs": [],
   "source": [
    "wine_df = pd.read_csv('data/winequality-red.csv')\n",
    "wine_df.head()"
   ]
  },
  {
   "cell_type": "code",
   "execution_count": null,
   "metadata": {},
   "outputs": [],
   "source": [
    "# Plot the average amount of chlorides for each quality value  \n",
    "\n",
    "wine_df.groupby('quality').mean()['chlorides'].plot(kind='bar')"
   ]
  },
  {
   "cell_type": "markdown",
   "metadata": {},
   "source": [
    "The `plot` method parameter `kind` can also be set to `scatter`, `hist`, or `box`"
   ]
  },
  {
   "cell_type": "code",
   "execution_count": null,
   "metadata": {},
   "outputs": [],
   "source": [
    "# Let's discover if there is a relationship between pH and alcohol levels\n",
    "\n",
    "wine_df.plot(kind='scatter', y='alcohol', x='pH')"
   ]
  },
  {
   "cell_type": "code",
   "execution_count": null,
   "metadata": {},
   "outputs": [],
   "source": [
    "# Is there a relationship between ph and fixed acidity?\n",
    "\n",
    "wine_df.plot(kind='scatter', y='fixed acidity', x='pH')"
   ]
  },
  {
   "cell_type": "code",
   "execution_count": null,
   "metadata": {},
   "outputs": [],
   "source": [
    "# Are the quality values evenly distributed?\n",
    "\n",
    "wine_df['quality'].hist()"
   ]
  },
  {
   "cell_type": "code",
   "execution_count": null,
   "metadata": {},
   "outputs": [],
   "source": [
    "# What is the distribution of citric acid? \n",
    "\n",
    "wine_df['citric acid'].plot(kind='box')"
   ]
  },
  {
   "cell_type": "markdown",
   "metadata": {},
   "source": [
    "## Plotting with Seaborn\n",
    "\n",
    "Seaborn is another data visualization library. Use pip to install the seaborn  with the command `pip install seaborn`. For full documentation on the different types of plots available visit - https://seaborn.pydata.org/api.html"
   ]
  },
  {
   "cell_type": "code",
   "execution_count": null,
   "metadata": {},
   "outputs": [],
   "source": [
    "import seaborn as sns"
   ]
  },
  {
   "cell_type": "code",
   "execution_count": null,
   "metadata": {},
   "outputs": [],
   "source": [
    "_= sns.barplot(x='quality', y='chlorides', data=wine_df)"
   ]
  },
  {
   "cell_type": "markdown",
   "metadata": {},
   "source": [
    "This bar chart is similar to the one generated with pandas, but there are 90% confidence bars included with the each bar. We can see that the chloride levels have a larger range for quality 3 wines than quality 6 wines. See the documentation for default parameters that can be changed. \n",
    "\n",
    "We can also create **histograms and scatterplots with seaborn** like we did with pandas, but with an added grouping layer called `hue`. "
   ]
  },
  {
   "cell_type": "code",
   "execution_count": null,
   "metadata": {},
   "outputs": [],
   "source": [
    "_= sns.scatterplot(x='pH', y='fixed acidity', hue='quality', data=wine_df)"
   ]
  },
  {
   "cell_type": "code",
   "execution_count": null,
   "metadata": {
    "scrolled": true
   },
   "outputs": [],
   "source": [
    "# We can also specify the color scheme for plots \n",
    "\n",
    "_= sns.scatterplot(x='pH', y='fixed acidity', hue='quality', data=wine_df, palette='deep')"
   ]
  },
  {
   "cell_type": "markdown",
   "metadata": {},
   "source": [
    "## Plotting categorical data\n",
    "\n",
    "What if we want to see distribution of alcohol percentage depending on the amount of sugar in the wine? Let's first create a new column that labels each wine as high or low sugar. "
   ]
  },
  {
   "cell_type": "code",
   "execution_count": null,
   "metadata": {},
   "outputs": [],
   "source": [
    "avg_sugar = wine_df['residual sugar'].mean()\n",
    "wine_df['high_sugar'] = wine_df['residual sugar'].apply(lambda x: x >=avg_sugar)\n",
    "wine_df[['residual sugar', 'high_sugar']]"
   ]
  },
  {
   "cell_type": "code",
   "execution_count": null,
   "metadata": {},
   "outputs": [],
   "source": [
    "_= sns.histplot(data=wine_df, x='alcohol', hue='high_sugar', stat='density', kde=True)\n"
   ]
  },
  {
   "cell_type": "markdown",
   "metadata": {},
   "source": [
    "These are just a few examples of common plots that you can make. Your next assignment is to create your own visuals through the **Exploratory Data Analysis (EDA) process**. See the folder `eda-examples` for an example and your next task.  "
   ]
  },
  {
   "cell_type": "code",
   "execution_count": null,
   "metadata": {},
   "outputs": [],
   "source": []
  }
 ],
 "metadata": {
  "kernelspec": {
   "display_name": "Python 3",
   "language": "python",
   "name": "python3"
  },
  "language_info": {
   "codemirror_mode": {
    "name": "ipython",
    "version": 3
   },
   "file_extension": ".py",
   "mimetype": "text/x-python",
   "name": "python",
   "nbconvert_exporter": "python",
   "pygments_lexer": "ipython3",
   "version": "3.8.5"
  }
 },
 "nbformat": 4,
 "nbformat_minor": 2
}
