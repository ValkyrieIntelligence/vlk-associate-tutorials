{
 "cells": [
  {
   "cell_type": "markdown",
   "metadata": {},
   "source": [
    "# Python Tutorial\n",
    "\n",
    "This notebook was derived with content from the Galvanize Intro to Python Fundamentals course"
   ]
  },
  {
   "cell_type": "markdown",
   "metadata": {},
   "source": [
    "# Pandas\n",
    "\n",
    "Pandas is an open source library providing high-performance, easy-to-use data structures and data analysis tools for the Python. \n",
    "\n",
    "Reference documentation - https://pandas.pydata.org/pandas-docs/stable/reference/index.html#api"
   ]
  },
  {
   "cell_type": "markdown",
   "metadata": {},
   "source": [
    "Let's start off by following the general workflow that we use when moving data into a DataFrame:\n",
    "\n",
    "1. Importing Pandas\n",
    "2. Reading data into the DataFrame\n",
    "3. Getting a general sense of the data"
   ]
  },
  {
   "cell_type": "code",
   "execution_count": null,
   "metadata": {},
   "outputs": [],
   "source": [
    "import pandas as pd"
   ]
  },
  {
   "cell_type": "code",
   "execution_count": null,
   "metadata": {},
   "outputs": [],
   "source": [
    "wine_df = pd.read_csv('data/winequality-red.csv')"
   ]
  },
  {
   "cell_type": "code",
   "execution_count": null,
   "metadata": {},
   "outputs": [],
   "source": [
    "# To display the the top 5 rows of the dataframe\n",
    "\n",
    "wine_df.head()"
   ]
  },
  {
   "cell_type": "code",
   "execution_count": null,
   "metadata": {},
   "outputs": [],
   "source": [
    "# Get the number of rows and columns in the wine_df. \n",
    "wine_df.shape"
   ]
  },
  {
   "cell_type": "code",
   "execution_count": null,
   "metadata": {},
   "outputs": [],
   "source": [
    "# Find the number of non-null values in each column. \n",
    "wine_df.info()"
   ]
  },
  {
   "cell_type": "code",
   "execution_count": null,
   "metadata": {},
   "outputs": [],
   "source": [
    "# Find the mean, min, max, and median for each column (along with a couple of other things). \n",
    "wine_df.describe()"
   ]
  },
  {
   "cell_type": "markdown",
   "metadata": {},
   "source": [
    "**Indexing:** You can access data in Pandas similar to Numpy, with slice or integer indexing. \n",
    "\n",
    "**Remember** Python uses zero-based indexing so columns and rows start at 0.  "
   ]
  },
  {
   "cell_type": "code",
   "execution_count": null,
   "metadata": {},
   "outputs": [],
   "source": [
    "# slice indexing only works if you are only slicing rows\n",
    "\n",
    "wine_df[:10]"
   ]
  },
  {
   "cell_type": "code",
   "execution_count": null,
   "metadata": {},
   "outputs": [],
   "source": [
    "# To slice rows and columns use the .iloc method\n",
    "\n",
    "wine_df.iloc[:10, :3]"
   ]
  },
  {
   "cell_type": "code",
   "execution_count": null,
   "metadata": {},
   "outputs": [],
   "source": [
    "# You can also use the iloc method to select a specific value in the dataframe\n",
    "\n",
    "wine_df.iloc[9,2]"
   ]
  },
  {
   "cell_type": "code",
   "execution_count": null,
   "metadata": {},
   "outputs": [],
   "source": [
    "# Use the .loc method to access values based on column names\n",
    "\n",
    "wine_df.loc[:10, 'fixed acidity']"
   ]
  },
  {
   "cell_type": "markdown",
   "metadata": {},
   "source": [
    "## Practice Problems\n",
    "\n",
    "1. Grab the first 10 rows of the chlorides column.\n",
    "2. Grab the last 10 rows of the chlorides column.\n",
    "3. Grab indices 264-282 of the chlorides and density columns."
   ]
  },
  {
   "cell_type": "code",
   "execution_count": null,
   "metadata": {},
   "outputs": [],
   "source": []
  },
  {
   "cell_type": "markdown",
   "metadata": {},
   "source": [
    "**Boolean Indexing**: Like Numpy, Pandas lets you pick out arbitrary elements of a dataframe that satisfy some condition."
   ]
  },
  {
   "cell_type": "code",
   "execution_count": null,
   "metadata": {},
   "outputs": [],
   "source": [
    "wine_df[wine_df['chlorides'] < 0.10]\n"
   ]
  },
  {
   "cell_type": "code",
   "execution_count": null,
   "metadata": {},
   "outputs": [],
   "source": [
    "# You can also use the .query method\n",
    "\n",
    "wine_df.query('chlorides < 0.10')"
   ]
  },
  {
   "cell_type": "code",
   "execution_count": null,
   "metadata": {},
   "outputs": [],
   "source": [
    "# Select all the rows where the chlorides value is greater than it's mean \n",
    "\n",
    "# These 2 sets of commands work:\n",
    "wine_df[wine_df['chlorides'] < wine_df['chlorides'].mean()]\n",
    "\n",
    "chlorides_mean = wine_df['chlorides'].mean()\n",
    "wine_df.query('chlorides < @chlorides_mean')"
   ]
  },
  {
   "cell_type": "code",
   "execution_count": null,
   "metadata": {
    "scrolled": false
   },
   "outputs": [],
   "source": [
    "# Select all those rows where the pH is greater than 3.0 and less than 3.5. \n",
    "\n",
    "# These 2 commands work:\n",
    "wine_df[(wine_df['pH'] > 3.0) & (wine_df['pH'] < 3.5)]\n",
    "wine_df.query('pH > 3.0 and pH < 3.5')"
   ]
  },
  {
   "cell_type": "code",
   "execution_count": null,
   "metadata": {},
   "outputs": [],
   "source": [
    "# We can add other conditional statements with &\n",
    "wine_df[(wine_df['pH'] > 3.0) & (wine_df['pH'] < 3.5) & (wine_df['residual sugar'] < 2.0)]"
   ]
  },
  {
   "cell_type": "markdown",
   "metadata": {},
   "source": [
    "A **good tip** is not to name columns with spaces. The pythonic way is to use `_` to separate words in column names. "
   ]
  },
  {
   "cell_type": "code",
   "execution_count": null,
   "metadata": {},
   "outputs": [],
   "source": [
    "wine_df.rename(columns={\"residual sugar\": 'residual_sugar'}, inplace=True) "
   ]
  },
  {
   "cell_type": "markdown",
   "metadata": {},
   "source": [
    "We can now use the `query` method to further filter the results based on `ph` and `residual_sugar` levels. (Note if the column had a space in the name the query would not have worked)"
   ]
  },
  {
   "cell_type": "code",
   "execution_count": null,
   "metadata": {},
   "outputs": [],
   "source": [
    "wine_df.query('pH > 3.0 and pH < 3.5 and residual_sugar < 2.0')\n"
   ]
  },
  {
   "cell_type": "markdown",
   "metadata": {},
   "source": [
    "**Array math** also works in Pandas like Numpy. We can create a new column based on the sum of two columns that already exist in the dataframe. "
   ]
  },
  {
   "cell_type": "code",
   "execution_count": null,
   "metadata": {},
   "outputs": [],
   "source": [
    "wine_df['total_acidity'] = wine_df['fixed acidity'] + wine_df['volatile acidity']\n",
    "wine_df.loc[:10, ['fixed acidity','volatile acidity','total_acidity']]"
   ]
  },
  {
   "cell_type": "markdown",
   "metadata": {},
   "source": [
    "**Broadcasting** also works in pandas like Numpy. We can take one value and with broadcasting the operation will apply to every row of the dataframe (or series which is what one column of a dataframe is referred to)"
   ]
  },
  {
   "cell_type": "code",
   "execution_count": null,
   "metadata": {},
   "outputs": [],
   "source": [
    "wine_df['quality'] / 2"
   ]
  },
  {
   "cell_type": "markdown",
   "metadata": {},
   "source": [
    "**Sorting** The method `sort_values` allows you to sort a dataframe by a specified column. The default setting to sort in ascending order. \n",
    "\n",
    "See the documents for full function parameters - \n",
    "https://pandas.pydata.org/pandas-docs/stable/reference/api/pandas.DataFrame.sort_values.html"
   ]
  },
  {
   "cell_type": "code",
   "execution_count": null,
   "metadata": {
    "scrolled": false
   },
   "outputs": [],
   "source": [
    "wine_df.sort_values(by='alcohol', ascending=False)"
   ]
  },
  {
   "cell_type": "code",
   "execution_count": null,
   "metadata": {},
   "outputs": [],
   "source": [
    "# To retrieve the top 10 values combine the use of slicing\n",
    "\n",
    "wine_df.sort_values(by='alcohol', ascending=False)['alcohol'][:10]"
   ]
  },
  {
   "cell_type": "markdown",
   "metadata": {},
   "source": [
    "**Grouping** The `groupby` function in Pandas is very useful for discovering information about different groups of data. \n",
    "\n",
    "For full details see the documentation - https://pandas.pydata.org/pandas-docs/stable/reference/api/pandas.DataFrame.groupby.html"
   ]
  },
  {
   "cell_type": "code",
   "execution_count": null,
   "metadata": {},
   "outputs": [],
   "source": [
    "wine_df.groupby('alcohol')['residual_sugar', 'pH', 'total_acidity'].mean()"
   ]
  },
  {
   "cell_type": "markdown",
   "metadata": {},
   "source": [
    "## Practice Problems\n",
    "\n",
    "1.  Find the top 5 density values.\n",
    "2. Find the 10 lowest sulphates values.\n",
    "3.  For observations with a pH greater than 3.0 and less than 4.0, find the average alcohol value by pH.\n",
    "4. For observations with an alcohol value between 9.25 and 9.5, find the highest amount of residual sugar.\n",
    "5. Get the average amount of chlorides for each quality value."
   ]
  },
  {
   "cell_type": "code",
   "execution_count": null,
   "metadata": {},
   "outputs": [],
   "source": []
  }
 ],
 "metadata": {
  "kernelspec": {
   "display_name": "Python 3",
   "language": "python",
   "name": "python3"
  },
  "language_info": {
   "codemirror_mode": {
    "name": "ipython",
    "version": 3
   },
   "file_extension": ".py",
   "mimetype": "text/x-python",
   "name": "python",
   "nbconvert_exporter": "python",
   "pygments_lexer": "ipython3",
   "version": "3.7.4"
  }
 },
 "nbformat": 4,
 "nbformat_minor": 2
}
