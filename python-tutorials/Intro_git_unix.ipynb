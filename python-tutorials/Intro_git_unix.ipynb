{
 "cells": [
  {
   "cell_type": "markdown",
   "metadata": {},
   "source": [
    "# Practicing with Unix"
   ]
  },
  {
   "cell_type": "markdown",
   "metadata": {},
   "source": [
    "This assignment will give you some practice navigating around the terminal, also called the command line. You will use the terminal throughout your internship at Valkyrie to access files and for project source control. "
   ]
  },
  {
   "cell_type": "markdown",
   "metadata": {},
   "source": [
    "1. Open up your terminal and navigate to your root directory. To open your terminal press `command` + `space bar` and search for `terminal`. Once your terminal is open type `cd` or `cd ~`. Type `ls` to see your root directory items. "
   ]
  },
  {
   "cell_type": "markdown",
   "metadata": {},
   "source": [
    "2. In your root directory, create a new directory called `test_directory` with the following command: \n",
    "\n",
    "    `mkdir test_directory`"
   ]
  },
  {
   "cell_type": "markdown",
   "metadata": {},
   "source": [
    "3. Navigate into `test_directory`, using the change directory command `cd` and print the working directory to the screen. Is the pathname printed to the screen an absolute path or relative path?\n",
    "\n",
    "    `cd test_directory`\n",
    "\n",
    "    `pwd`"
   ]
  },
  {
   "cell_type": "markdown",
   "metadata": {},
   "source": [
    "The path printed to the screen is an absolute path. You can tell because it is prefixed with a `/`."
   ]
  },
  {
   "cell_type": "markdown",
   "metadata": {},
   "source": [
    "4. Create two files, calling them `test_file1.txt` and `test_file2.txt` with the touch command. \n",
    "\n",
    "    `touch test_file1.txt test_file2.txt`"
   ]
  },
  {
   "cell_type": "markdown",
   "metadata": {},
   "source": [
    "5. Use `ls` to make sure that the files are in fact in the directory. You should see both of the files `test_file1.txt` and `test_file2.txt` present."
   ]
  },
  {
   "cell_type": "markdown",
   "metadata": {},
   "source": [
    "6. Copy `test_file1.txt` to a new file, calling it `test_file3.txt`. How many files are there in your directory now?\n",
    "\n",
    "     `cp test_file1.txt test_file3.txt`"
   ]
  },
  {
   "cell_type": "markdown",
   "metadata": {},
   "source": [
    "There should now be three files in your directory - `test_file1.txt`,\n",
    " `test_file2.txt`, and `test_file3.txt`."
   ]
  },
  {
   "cell_type": "markdown",
   "metadata": {},
   "source": [
    "7. Rename `test_file3.txt` to `test_file4.txt`. How many files are there in your directory now? To rename a file we use the same command to move a file. \n",
    "\n",
    "    `mv test_file3.txt test_file4.txt`"
   ]
  },
  {
   "cell_type": "markdown",
   "metadata": {},
   "source": [
    "There should still be only 3 files in your directory - `test_file1.txt`,\n",
    " `test_file2.txt`, and `test_file4.txt`."
   ]
  },
  {
   "cell_type": "markdown",
   "metadata": {},
   "source": [
    "8. Within `test_directory`, create a new directory called `inner_directory`.\n",
    "\n",
    "    `mkdir inner_directory`"
   ]
  },
  {
   "cell_type": "markdown",
   "metadata": {},
   "source": [
    "9. In one command, move all of the files from `test_directory` into the\n",
    "`inner_directory`.\n",
    "\n",
    "    `mv test_file1.txt test_file2.txt test_file4.txt inner_directory`"
   ]
  },
  {
   "cell_type": "markdown",
   "metadata": {},
   "source": [
    "10. In one command, delete `inner_directory` and all its contents.\n",
    "\n",
    "    `rm -r inner_directory`"
   ]
  },
  {
   "cell_type": "markdown",
   "metadata": {},
   "source": [
    "The `-r` flag means `recursive`, so that everything within the folder is also removed. Without this flag you will not able to remove the folder. "
   ]
  },
  {
   "cell_type": "markdown",
   "metadata": {},
   "source": [
    "11. Navigate back to your root directory using `cd`, and delete `test_directory` using\n",
    "`rmdir`.\n",
    "Why does `rmdir` work here (**Hint**: Think about what's left in\n",
    "`test_directory`)?"
   ]
  },
  {
   "cell_type": "markdown",
   "metadata": {},
   "source": [
    "# Practicing with Git"
   ]
  },
  {
   "cell_type": "markdown",
   "metadata": {},
   "source": [
    "You will now practice with Git to understand how to use source control. Git will be used to collaborate with other scientists on the project(s) you are assigned. \n",
    "\n",
    "**Git is a distributed version control system**. Version Control means that it can store snapshots of everything in a directory. Distributed means that you can store the current version of your code, along with all previous versions, on multiple machines, and keep them in sync.\n",
    "\n",
    "#### Repository\n",
    "Git stores all of your changes in a repository. A repository is essentially a folder on your computer that also stores a history of all of the snapshots of your codebase.\n",
    "\n",
    "#### Cloning\n",
    "When a repository exists on GitHub (or any other remote Git server), you can download the repository by cloning it.\n",
    "\n",
    "#### Commits\n",
    "In order to take a snapshot of your code at a given point in time, you create a commit. A commit is basically a named version of your code.\n",
    "\n",
    "#### Pushing / Pulling\n",
    "Once you've cloned a repository, and you make changes locally, you create a commit. In order to share that commit, you push your changes from your local machine to GitHub.\n",
    "\n",
    "If somebody else made a change to the repository and pushed it to GitHub, you would need to pull those changes down to stay in sync.\n",
    "\n",
    "#### Branches\n",
    "The primary or default branch in Git is the master branch (similar to a trunk of the tree). As soon as the repository creates, so does the main branch. Creating a new branch is a way to develop and code modifications or new features but not affect the master (or dev) branch.  We can also say that branches create another line of development in the project. \n",
    "\n",
    "#### Forking\n",
    "On Github, when you fork a repository, you create a personal copy of that repository on GitHub that you can work on without affecting anyone else's fork (copy). This usually is not done on Valkyrie projects. \n",
    "\n",
    "#### External Resources\n",
    "You can find additional resources on the Valkyrie Notion Page. Science Solarium > Valkyrie University > External Resources\n"
   ]
  },
  {
   "cell_type": "markdown",
   "metadata": {},
   "source": [
    "1. Navigate to this project directory. \n",
    "\n",
    "    `cd vlk-associate-tutorials`"
   ]
  },
  {
   "cell_type": "markdown",
   "metadata": {},
   "source": [
    "2. Verify that you are on the branch that you created with `git branch`. You should see an asterisk next to the branch name. "
   ]
  },
  {
   "cell_type": "markdown",
   "metadata": {},
   "source": [
    "3. Create a test file and check your git status. \n",
    "\n",
    "    `touch git_test_file.txt`\n",
    "    \n",
    "    `git status`"
   ]
  },
  {
   "cell_type": "markdown",
   "metadata": {},
   "source": [
    "You should see that the test file is marked in red under Untracked files. This file only exists locally but once you add and commit your changes, then it will be shared with the remote repository as well. "
   ]
  },
  {
   "cell_type": "markdown",
   "metadata": {},
   "source": [
    "4. Add and commit your changes to the remote repository. \n",
    "\n",
    "    `git add git_test_file.txt`\n",
    "    \n",
    "    `git commit -m adding test file`\n",
    "    \n",
    "Always include a descriptive comment on your commit messages so that it is clear what changes were made. "
   ]
  },
  {
   "cell_type": "markdown",
   "metadata": {},
   "source": [
    "5. Now that your changes are staged you need to send them to the remote repository.\n",
    "\n",
    "    `git push`\n",
    "    \n",
    "You should see your commit and comment displayed on Github."
   ]
  },
  {
   "cell_type": "markdown",
   "metadata": {},
   "source": [
    "6. Delete the file you created and switch to the master branch.\n",
    "\n",
    "    `rm git_test_file.txt`\n",
    "    \n",
    "    `git checkout master`\n",
    "    \n"
   ]
  },
  {
   "cell_type": "markdown",
   "metadata": {},
   "source": [
    "You should get an error message that "
   ]
  },
  {
   "cell_type": "markdown",
   "metadata": {},
   "source": []
  },
  {
   "cell_type": "markdown",
   "metadata": {},
   "source": []
  },
  {
   "cell_type": "markdown",
   "metadata": {},
   "source": []
  },
  {
   "cell_type": "code",
   "execution_count": null,
   "metadata": {},
   "outputs": [],
   "source": []
  }
 ],
 "metadata": {
  "kernelspec": {
   "display_name": "Python 3",
   "language": "python",
   "name": "python3"
  },
  "language_info": {
   "codemirror_mode": {
    "name": "ipython",
    "version": 3
   },
   "file_extension": ".py",
   "mimetype": "text/x-python",
   "name": "python",
   "nbconvert_exporter": "python",
   "pygments_lexer": "ipython3",
   "version": "3.8.5"
  }
 },
 "nbformat": 4,
 "nbformat_minor": 4
}
