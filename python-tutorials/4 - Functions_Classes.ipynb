{
 "cells": [
  {
   "cell_type": "markdown",
   "metadata": {},
   "source": [
    "## Functions\n",
    "\n",
    "Funtions are the main components in how to best use Python. They allow users to interact with the same repeated code in different ways. If you repeat at least two lines of code then it is a sign you should define a function. Here are a couple examples:"
   ]
  },
  {
   "cell_type": "code",
   "execution_count": null,
   "metadata": {},
   "outputs": [],
   "source": [
    "def sign(x):\n",
    "    if x > 0:\n",
    "        return 'positive'\n",
    "    elif x < 0:\n",
    "        return 'negative'\n",
    "    else:\n",
    "        return 'zero'\n",
    "\n",
    "for x in [-1, 0, 1]:\n",
    "    print(sign(x))"
   ]
  },
  {
   "cell_type": "code",
   "execution_count": null,
   "metadata": {},
   "outputs": [],
   "source": [
    "def hello(name, loud=False):\n",
    "    if loud:\n",
    "        print('HELLO, %s!' % name.upper())\n",
    "    else:\n",
    "        print('Hello, %s' % name)\n",
    "\n",
    "hello('Bob') \n",
    "hello('Fred', loud=True)  "
   ]
  },
  {
   "cell_type": "markdown",
   "metadata": {},
   "source": [
    "More information and definitions for functions can be found here: https://docs.python.org/3/glossary.html#term-function"
   ]
  },
  {
   "cell_type": "markdown",
   "metadata": {},
   "source": [
    "## Practice Problems"
   ]
  },
  {
   "cell_type": "code",
   "execution_count": null,
   "metadata": {},
   "outputs": [],
   "source": [
    "# Complete the following function as stated\n",
    "\n",
    "def check_if_divisor(n, potential_divisor=2):\n",
    "    \"\"\"Check if the inputted number (n) is divisible by the potential divisor.\n",
    "    Args:\n",
    "        n: int\n",
    "        potential_divisor: int\n",
    "    \"\"\"\n",
    "    \n",
    "    pass\n",
    "\n",
    "# Examples: check_if_divisor(14) returns True; \n",
    "#           check_if_divisor(14, potential_divisor=3) returns False"
   ]
  },
  {
   "cell_type": "code",
   "execution_count": null,
   "metadata": {},
   "outputs": [],
   "source": [
    "# Complete the following function as stated\n",
    "\n",
    "def return_evens(input_lst):\n",
    "    \"\"\"Return a list of all the evens in the input list.\n",
    "    Args:\n",
    "        input_lst: list\n",
    "    \"\"\"\n",
    "    \n",
    "    pass\n",
    "\n",
    "# Examples: return_evens([2, 4, 5]) returns [2,4]\n",
    "#           return_evens([0,1,3,5]) returns []"
   ]
  },
  {
   "cell_type": "code",
   "execution_count": null,
   "metadata": {},
   "outputs": [],
   "source": [
    "# Complete the following function as stated\n",
    "\n",
    "def filter_by_end_letter(string_lst, check_letter):\n",
    "    \"\"\"Filter the string list to those words that end with the check_letter.\n",
    "    Args:\n",
    "        string_lst: List of strings\n",
    "        check_letter: String (one letter)\n",
    "    \"\"\"\n",
    "    \n",
    "    pass\n",
    "\n",
    "# Examples: \n",
    "#   filter_by_end_letter(['I', 'am', 'in', love', 'with', 'python'], 'n')) returns ['in', 'python']\n",
    "#   filter_by_end_letter(['Hello', 'goodbye'], 'g')) returns []"
   ]
  },
  {
   "cell_type": "code",
   "execution_count": null,
   "metadata": {},
   "outputs": [],
   "source": [
    "# Complete the following function as stated\n",
    "\n",
    "def get_word_lengths(input_str, delimiter=' '):\n",
    "    \"\"\"Get the lengths of each word in the inputted string.\n",
    "    Get the lengths of each wordin the inputted string, where we consider\n",
    "    words to be separated by the input delimiter (space by default).\n",
    "    Args:\n",
    "        input_str: String\n",
    "        delimiter: String\n",
    "    \"\"\"\n",
    "    \n",
    "    pass\n",
    "\n",
    "# Examples:\n",
    "#  get_word_lengths(\"This is an example\")) returns [4, 2, 2, 7]\n",
    "#  get_word_lengths(\"What?about?using?question?marks\", \"?\")) returns [4, 5, 5, 8, 5]"
   ]
  },
  {
   "cell_type": "markdown",
   "metadata": {},
   "source": [
    "## Classes \n",
    "\n",
    "A Python class is for defining a particular type of object. Because Python objects can have both function and data elements, Python classes define what methods can be used to change the state of an object. They also indicate what attributes the object can have."
   ]
  },
  {
   "cell_type": "code",
   "execution_count": null,
   "metadata": {},
   "outputs": [],
   "source": [
    "class Greeter(object):\n",
    "\n",
    "    # Constructor\n",
    "    def __init__(self, name):\n",
    "        self.name = name  # Create an instance variable\n",
    "\n",
    "    # Instance method\n",
    "    def greet(self, loud=False):\n",
    "        if loud:\n",
    "            print('HELLO, %s!' % self.name.upper())\n",
    "        else:\n",
    "            print('Hello, %s' % self.name)\n",
    "\n",
    "g = Greeter('Fred')  # Construct an instance of the Greeter class\n",
    "g.greet()            "
   ]
  },
  {
   "cell_type": "code",
   "execution_count": null,
   "metadata": {},
   "outputs": [],
   "source": [
    "g.greet(loud=True) "
   ]
  },
  {
   "cell_type": "markdown",
   "metadata": {},
   "source": [
    "For more guidance check out this blog post - https://www.bitdegree.org/learn/python-class"
   ]
  },
  {
   "cell_type": "markdown",
   "metadata": {},
   "source": [
    "## Practice Problem"
   ]
  },
  {
   "cell_type": "code",
   "execution_count": null,
   "metadata": {},
   "outputs": [],
   "source": [
    "# Complete the class \n",
    "\n",
    "class Car(): \n",
    "    \"\"\"This docstring will describe how to interact with the Car class. \n",
    "    This Car class will have a couple of different attributes - model, \n",
    "    color, and gallons_of_gas. It will have one method, drive, \n",
    "    that simply adjusts the gallons_of_gas based off an inputted number\n",
    "    of miles driven.\n",
    "    \n",
    "    Parameters\n",
    "    ----------\n",
    "        model: str\n",
    "            Holds the model of the car (Toyota, Honda, etc.). \n",
    "        color: str\n",
    "        gallons_of_gas: float\n",
    "    \"\"\"\n",
    "\n",
    "    def __init__(self, model, color, gallons_of_gas): \n",
    "          \n",
    "            pass\n",
    "\n",
    "    def drive(self, miles_driven): \n",
    "        \"\"\"This will drive the car some number of miles, and adjust the \n",
    "        gallons_of_gas in the tank. Assume you lose one gallon of gas for \n",
    "        every 10 miles driven.\n",
    "        Args: \n",
    "            miles_driven: float \n",
    "        \"\"\"\n",
    "\n",
    "        pass\n",
    "    \n",
    "# Example:\n",
    "#   my_car = Car('Honda', 'white', 22)\n",
    "#   my_car.model would return Honda\n",
    "#   my_car.gallons_of_gas returns 22\n",
    "#   my_car.drive(10)\n",
    "#   my_car.gallons_of_gas returns 21"
   ]
  }
 ],
 "metadata": {
  "kernelspec": {
   "display_name": "Python 3",
   "language": "python",
   "name": "python3"
  },
  "language_info": {
   "codemirror_mode": {
    "name": "ipython",
    "version": 3
   },
   "file_extension": ".py",
   "mimetype": "text/x-python",
   "name": "python",
   "nbconvert_exporter": "python",
   "pygments_lexer": "ipython3",
   "version": "3.7.4"
  }
 },
 "nbformat": 4,
 "nbformat_minor": 2
}
